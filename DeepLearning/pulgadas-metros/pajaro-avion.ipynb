{
 "cells": [
  {
   "cell_type": "markdown", 
   "id": "6f93e636",
   "metadata": {},
   "source": [
    "# Pajaro vs avion"
   ]
  },
  {
   "cell_type": "markdown",
   "id": "c0ffa005",
   "metadata": {},
   "source": [
    "Es un pájaro? Es un avión? No! Es el tp final de IA de este año: clasificar **pájaros** vs **aviones** utilizando redes neuronales.\n",
    "\n",
    "En este trabajo práctico vamos a utilizar redes neuronales para intentar clasificar imágenes, determinando si el objeto que se ve en la imagen es un pájaro o un avión. Para ello, ya contamos con un set de 10.000 imágenes clasificadas en las que estamos seguros de lo que se ve: o un pájaro o un avión. Con estos datos entrenaremos una red neuronal, que luego deberá ser capaz de clasificar correctamente imágenes similares."
   ]
  },
  {
   "cell_type": "code",
   "execution_count": 1,
   "id": "07fe8a6a",
   "metadata": {},
   "outputs": [],
   "source": [
    "# imports de libs que usamos para leer y procesar datos en masa\n",
    "import numpy as np\n",
    "import pandas as pd\n",
    "\n",
    "# lib que usamos para mostrar las imágenes\n",
    "import matplotlib.pyplot as plt\n",
    "\n",
    "# libs que usamos para tareas generales de machine learning: separar conjuntos de datos, evaluar exactitud, etc\n",
    "from sklearn.model_selection import train_test_split\n",
    "from sklearn.metrics import classification_report, accuracy_score\n",
    "\n",
    "# libs que usamos para construir y entrenar redes neuronales\n",
    "from keras.models import Sequential\n",
    "from keras.layers import Dense, Activation, Input, Dropout, Convolution2D, MaxPooling2D, Flatten\n",
    "\n",
    "# configuración para que las imágenes se vean dentro del notebook\n",
    "%matplotlib inline"
   ]
  },
  {
   "cell_type": "code",
   "execution_count": 6,
   "id": "405e2644",
   "metadata": {},
   "outputs": [],
   "source": [
    "# algunas configuraciones generales respecto a las imagenes\n",
    "picture_size = 32\n",
    "channels = 'rgb'\n",
    "\n",
    "# nombres de las columnas de datos que vamos a usar como \"entradas\"\n",
    "input_columns = []\n",
    "for color in channels:\n",
    "    input_columns.extend(['%s%i' % (color, i) for i in range(picture_size ** 2)])"
   ]
  },
  {
   "cell_type": "markdown",
   "id": "e08387ab",
   "metadata": {},
   "source": [
    "## Datos"
   ]
  },
  {
   "cell_type": "markdown",
   "id": "cee38de5",
   "metadata": {},
   "source": [
    "Leemos las 10.000 imagenes, que están guardadas en un solo archivo y mostramos 5 filas de ejemplo.  \n",
    "\n",
    "Cada fila es una imagen. Cada imagen tiene muchos pixeles. Y cada pixel tiene 3 valores: cuánto de rojo, cuánto de verde y cuánto de azul (estos son \"canales\" de color).\n",
    "\n",
    "Eso quiere decir que si la imagen tiene 32 x 32 pixeles, y cada pixel tiene 3 valores, entonces tenemos 32 x 32 x 3 = 3072 columnas.\n",
    "\n",
    "La última columna, 'label', es un 0 cuando la imagen contiene un pájaro, y 1 cuando contiene un avión."
   ]
  },
  {
   "cell_type": "code",
   "execution_count": 8,
   "id": "17db2910",
   "metadata": {},
   "outputs": [
    {
     "data": {
      "text/html": [
       "<div>\n",
       "<style scoped>\n",
       "    .dataframe tbody tr th:only-of-type {\n",
       "        vertical-align: middle;\n",
       "    }\n",
       "\n",
       "    .dataframe tbody tr th {\n",
       "        vertical-align: top;\n",
       "    }\n",
       "\n",
       "    .dataframe thead th {\n",
       "        text-align: right;\n",
       "    }\n",
       "</style>\n",
       "<table border=\"1\" class=\"dataframe\">\n",
       "  <thead>\n",
       "    <tr style=\"text-align: right;\">\n",
       "      <th></th>\n",
       "      <th>r0</th>\n",
       "      <th>r1</th>\n",
       "      <th>r2</th>\n",
       "      <th>r3</th>\n",
       "      <th>r4</th>\n",
       "      <th>r5</th>\n",
       "      <th>r6</th>\n",
       "      <th>r7</th>\n",
       "      <th>r8</th>\n",
       "      <th>r9</th>\n",
       "      <th>...</th>\n",
       "      <th>b1015</th>\n",
       "      <th>b1016</th>\n",
       "      <th>b1017</th>\n",
       "      <th>b1018</th>\n",
       "      <th>b1019</th>\n",
       "      <th>b1020</th>\n",
       "      <th>b1021</th>\n",
       "      <th>b1022</th>\n",
       "      <th>b1023</th>\n",
       "      <th>label</th>\n",
       "    </tr>\n",
       "  </thead>\n",
       "  <tbody>\n",
       "    <tr>\n",
       "      <th>9181</th>\n",
       "      <td>0.439216</td>\n",
       "      <td>0.380392</td>\n",
       "      <td>0.352941</td>\n",
       "      <td>0.349020</td>\n",
       "      <td>0.352941</td>\n",
       "      <td>0.349020</td>\n",
       "      <td>0.368627</td>\n",
       "      <td>0.368627</td>\n",
       "      <td>0.356863</td>\n",
       "      <td>0.368627</td>\n",
       "      <td>...</td>\n",
       "      <td>0.662745</td>\n",
       "      <td>0.815686</td>\n",
       "      <td>0.933333</td>\n",
       "      <td>0.882353</td>\n",
       "      <td>0.901961</td>\n",
       "      <td>0.992157</td>\n",
       "      <td>1.000000</td>\n",
       "      <td>0.886275</td>\n",
       "      <td>0.623529</td>\n",
       "      <td>0</td>\n",
       "    </tr>\n",
       "    <tr>\n",
       "      <th>3068</th>\n",
       "      <td>0.913725</td>\n",
       "      <td>0.921569</td>\n",
       "      <td>0.933333</td>\n",
       "      <td>0.945098</td>\n",
       "      <td>0.952941</td>\n",
       "      <td>0.964706</td>\n",
       "      <td>0.972549</td>\n",
       "      <td>0.980392</td>\n",
       "      <td>0.984314</td>\n",
       "      <td>0.988235</td>\n",
       "      <td>...</td>\n",
       "      <td>0.172549</td>\n",
       "      <td>0.203922</td>\n",
       "      <td>0.223529</td>\n",
       "      <td>0.121569</td>\n",
       "      <td>0.113725</td>\n",
       "      <td>0.141176</td>\n",
       "      <td>0.172549</td>\n",
       "      <td>0.313725</td>\n",
       "      <td>0.309804</td>\n",
       "      <td>1</td>\n",
       "    </tr>\n",
       "    <tr>\n",
       "      <th>526</th>\n",
       "      <td>0.701961</td>\n",
       "      <td>0.690196</td>\n",
       "      <td>0.678431</td>\n",
       "      <td>0.670588</td>\n",
       "      <td>0.670588</td>\n",
       "      <td>0.674510</td>\n",
       "      <td>0.678431</td>\n",
       "      <td>0.619608</td>\n",
       "      <td>0.576471</td>\n",
       "      <td>0.576471</td>\n",
       "      <td>...</td>\n",
       "      <td>0.721569</td>\n",
       "      <td>0.717647</td>\n",
       "      <td>0.713725</td>\n",
       "      <td>0.713725</td>\n",
       "      <td>0.709804</td>\n",
       "      <td>0.705882</td>\n",
       "      <td>0.701961</td>\n",
       "      <td>0.698039</td>\n",
       "      <td>0.694118</td>\n",
       "      <td>1</td>\n",
       "    </tr>\n",
       "    <tr>\n",
       "      <th>1120</th>\n",
       "      <td>0.937255</td>\n",
       "      <td>0.952941</td>\n",
       "      <td>0.984314</td>\n",
       "      <td>1.000000</td>\n",
       "      <td>0.992157</td>\n",
       "      <td>0.952941</td>\n",
       "      <td>0.909804</td>\n",
       "      <td>0.831373</td>\n",
       "      <td>0.800000</td>\n",
       "      <td>0.925490</td>\n",
       "      <td>...</td>\n",
       "      <td>0.858824</td>\n",
       "      <td>0.847059</td>\n",
       "      <td>0.819608</td>\n",
       "      <td>0.788235</td>\n",
       "      <td>0.756863</td>\n",
       "      <td>0.776471</td>\n",
       "      <td>0.815686</td>\n",
       "      <td>0.835294</td>\n",
       "      <td>0.792157</td>\n",
       "      <td>1</td>\n",
       "    </tr>\n",
       "    <tr>\n",
       "      <th>1906</th>\n",
       "      <td>0.086275</td>\n",
       "      <td>0.086275</td>\n",
       "      <td>0.086275</td>\n",
       "      <td>0.086275</td>\n",
       "      <td>0.090196</td>\n",
       "      <td>0.098039</td>\n",
       "      <td>0.098039</td>\n",
       "      <td>0.094118</td>\n",
       "      <td>0.090196</td>\n",
       "      <td>0.090196</td>\n",
       "      <td>...</td>\n",
       "      <td>0.937255</td>\n",
       "      <td>0.917647</td>\n",
       "      <td>0.941176</td>\n",
       "      <td>0.933333</td>\n",
       "      <td>0.858824</td>\n",
       "      <td>0.670588</td>\n",
       "      <td>0.627451</td>\n",
       "      <td>0.631373</td>\n",
       "      <td>0.615686</td>\n",
       "      <td>1</td>\n",
       "    </tr>\n",
       "  </tbody>\n",
       "</table>\n",
       "<p>5 rows × 3073 columns</p>\n",
       "</div>"
      ],
      "text/plain": [
       "            r0        r1        r2        r3        r4        r5        r6  \\\n",
       "9181  0.439216  0.380392  0.352941  0.349020  0.352941  0.349020  0.368627   \n",
       "3068  0.913725  0.921569  0.933333  0.945098  0.952941  0.964706  0.972549   \n",
       "526   0.701961  0.690196  0.678431  0.670588  0.670588  0.674510  0.678431   \n",
       "1120  0.937255  0.952941  0.984314  1.000000  0.992157  0.952941  0.909804   \n",
       "1906  0.086275  0.086275  0.086275  0.086275  0.090196  0.098039  0.098039   \n",
       "\n",
       "            r7        r8        r9  ...     b1015     b1016     b1017  \\\n",
       "9181  0.368627  0.356863  0.368627  ...  0.662745  0.815686  0.933333   \n",
       "3068  0.980392  0.984314  0.988235  ...  0.172549  0.203922  0.223529   \n",
       "526   0.619608  0.576471  0.576471  ...  0.721569  0.717647  0.713725   \n",
       "1120  0.831373  0.800000  0.925490  ...  0.858824  0.847059  0.819608   \n",
       "1906  0.094118  0.090196  0.090196  ...  0.937255  0.917647  0.941176   \n",
       "\n",
       "         b1018     b1019     b1020     b1021     b1022     b1023  label  \n",
       "9181  0.882353  0.901961  0.992157  1.000000  0.886275  0.623529      0  \n",
       "3068  0.121569  0.113725  0.141176  0.172549  0.313725  0.309804      1  \n",
       "526   0.713725  0.709804  0.705882  0.701961  0.698039  0.694118      1  \n",
       "1120  0.788235  0.756863  0.776471  0.815686  0.835294  0.792157      1  \n",
       "1906  0.933333  0.858824  0.670588  0.627451  0.631373  0.615686      1  \n",
       "\n",
       "[5 rows x 3073 columns]"
      ]
     },
     "execution_count": 8,
     "metadata": {},
     "output_type": "execute_result"
    }
   ],
   "source": [
    "data = pd.read_pickle('./data.pkl')\n",
    "data.sample(5)"
   ]
  },
  {
   "cell_type": "code",
   "execution_count": 10,
   "id": "9c98b78f",
   "metadata": {},
   "outputs": [
    {
     "data": {
      "text/plain": [
       "(10000, 3073)"
      ]
     },
     "execution_count": 10,
     "metadata": {},
     "output_type": "execute_result"
    }
   ],
   "source": [
    "data.shape"
   ]
  },
  {
   "cell_type": "markdown",
   "id": "bb5ba2cd",
   "metadata": {},
   "source": [
    "Esta función nos permite pasarle un conjunto de imagenes (filas de la tabla), y nos las dibuja. También admite usar alguna columna de la tabla como título para cada imagen"
   ]
  },
  {
   "cell_type": "code",
   "execution_count": 16,
   "id": "71047f3d",
   "metadata": {},
   "outputs": [],
   "source": [
    "def show_images(samples, title=None):\n",
    "    for index, sample in samples.iterrows():\n",
    "        if title is not None:\n",
    "            plt.title(str(sample[title]))\n",
    "\n",
    "        sample_as_grid = sample[input_columns].values.reshape(len(channels), picture_size, picture_size)\n",
    "        sample_as_grid = np.transpose(sample_as_grid, (1, 2, 0))\n",
    "        plt.axis('off')\n",
    "        plt.imshow(sample_as_grid, interpolation='nearest')\n",
    "\n",
    "        plt.show()"
   ]
  },
  {
   "cell_type": "markdown",
   "id": "88b67553",
   "metadata": {},
   "source": [
    "Mostramos algunas imagenes de ejemplo al azar. Pueden ustedes distinguir lo que hay en cada imagen? (si ejecutan esta celda muchas veces, van a ir viendo imágenes diferentes)"
   ]
  },
  {
   "cell_type": "code",
   "execution_count": 19,
   "id": "f7ed89dc",
   "metadata": {},
   "outputs": [
    {
     "data": {
      "image/png": "[encoded data removed]",
      "text/plain": [
       "<Figure size 640x480 with 1 Axes>"
      ]
     },
     "metadata": {},
     "output_type": "display_data"
    },
    {
     "data": {
      "image/png": "[encoded data removed]",
      "text/plain": [
       "<Figure size 640x480 with 1 Axes>"
      ]
     },
     "metadata": {},
     "output_type": "display_data"
    },
    {
     "data": {
      "image/png": "[encoded data removed]",
      "text/plain": [
       "<Figure size 640x480 with 1 Axes>"
      ]
     },
     "metadata": {},
     "output_type": "display_data"
    }
   ],
   "source": [
    "show_images(data.sample(3), title='label')"
   ]
  },
  {
   "cell_type": "markdown",
   "id": "a142087e",
   "metadata": {},
   "source": [
    "Y finalmente, separamos los datos en dos conjuntos, vamos a utilizar uno para entrenar la red y el otro para testearla (y de esa forma asegurarnos de que no estamos sobreentrenando, evaluar cómo se va a comportar con casos que no usó para entrenar, etc)."
   ]
  },
  {
   "cell_type": "code",
   "execution_count": 20,
   "id": "732e0b4f",
   "metadata": {},
   "outputs": [
    {
     "name": "stdout",
     "output_type": "stream",
     "text": [
      "#################### train labels ####################\n",
      "1    4017\n",
      "0    3983\n",
      "Name: label, dtype: int64\n",
      "\n",
      "#################### test labels ####################\n",
      "0    1017\n",
      "1     983\n",
      "Name: label, dtype: int64\n",
      "\n"
     ]
    }
   ],
   "source": [
    "train, test = train_test_split(data, test_size=0.2)\n",
    "sets = (\n",
    "    ('train', train),\n",
    "    ('test', test),\n",
    ")\n",
    "\n",
    "for set_name, set_data in sets:\n",
    "    print('#' * 20, set_name, 'labels', '#' * 20)\n",
    "    print(set_data.label.value_counts())\n",
    "    print()"
   ]
  },
  {
   "cell_type": "markdown",
   "id": "aa8e49f5",
   "metadata": {},
   "source": [
    "## Red neuronal"
   ]
  },
  {
   "cell_type": "markdown",
   "id": "a9c8c80f",
   "metadata": {},
   "source": [
    "Esta primer función es una comodidad, para no tener que repetir este fragmento de código cada vez que queramos alimentar a la red neuronal con datos de entrada. Lo que hace la función, es quedarse solo con los valores de las columnas de entrada."
   ]
  },
  {
   "cell_type": "code",
   "execution_count": 21,
   "id": "660b8319",
   "metadata": {},
   "outputs": [],
   "source": [
    "def extract_inputs(dataset):\n",
    "    return dataset[input_columns].values\n",
    "    # return dataset[input_columns].values.reshape(len(dataset), picture_size, picture_size, len(channels))"
   ]
  },
  {
   "cell_type": "markdown",
   "id": "11bff228",
   "metadata": {},
   "source": [
    "Y aquí es donde ustedes tienen que completar su entrega:"
   ]
  },
  {
   "cell_type": "code",
   "execution_count": 22,
   "id": "292bd291",
   "metadata": {},
   "outputs": [],
   "source": [
    "model = Sequential([\n",
    "    #Convolution2D(16, (4, 4), padding='valid', input_shape=(picture_size, picture_size, len(channels))),\n",
    "    #Activation('tanh'),\n",
    "    #Convolution2D(16, (4, 4)),\n",
    "    #Activation('tanh'),\n",
    "    #MaxPooling2D(pool_size=(4, 4)),\n",
    "    #Dropout(0.1),\n",
    "    #Flatten(),\n",
    "\n",
    "    Dense(50, input_shape=(len(input_columns), )),\n",
    "    Activation('tanh'),\n",
    "\n",
    "    Dense(50),\n",
    "    Activation('tanh'),\n",
    "    \n",
    "    Dropout(0.1),\n",
    "    \n",
    "    Dense(1),\n",
    "    Activation('sigmoid'),\n",
    "])\n",
    "\n",
    "model.compile(\n",
    "    optimizer='adam',\n",
    "    loss='binary_crossentropy',\n",
    "    metrics=['accuracy',],\n",
    ")"
   ]
  },
  {
   "cell_type": "code",
   "execution_count": 23,
   "id": "78ad4150",
   "metadata": {},
   "outputs": [
    {
     "name": "stdout",
     "output_type": "stream",
     "text": [
      "Epoch 1/5\n",
      "63/63 [==============================] - 2s 3ms/step - loss: 0.5941 - accuracy: 0.6860\n",
      "Epoch 2/5\n",
      "63/63 [==============================] - 0s 3ms/step - loss: 0.5270 - accuracy: 0.7592\n",
      "Epoch 3/5\n",
      "63/63 [==============================] - 0s 3ms/step - loss: 0.5185 - accuracy: 0.7669\n",
      "Epoch 4/5\n",
      "63/63 [==============================] - 0s 3ms/step - loss: 0.5127 - accuracy: 0.7725\n",
      "Epoch 5/5\n",
      "63/63 [==============================] - 0s 3ms/step - loss: 0.4989 - accuracy: 0.7804\n"
     ]
    },
    {
     "data": {
      "text/plain": [
       "<keras.callbacks.History at 0x1f6b6e8b190>"
      ]
     },
     "execution_count": 23,
     "metadata": {},
     "output_type": "execute_result"
    }
   ],
   "source": [
    "model.fit(\n",
    "    extract_inputs(train), \n",
    "    train.label.values, \n",
    "    epochs=5,\n",
    "    batch_size=128,\n",
    ")"
   ]
  },
  {
   "cell_type": "markdown",
   "id": "e5bae8ab",
   "metadata": {},
   "source": [
    "Una vez entrenada, pueden evaluar la performance de la red neuronal utilizando los dos conjuntos, con este fragmento de código.\n",
    "\n",
    "El valor que tienen que lograr que llege a 80% (0.8) o más, es accuracy en el conjunto de test."
   ]
  },
  {
   "cell_type": "code",
   "execution_count": 25,
   "id": "424c1574",
   "metadata": {},
   "outputs": [
    {
     "name": "stdout",
     "output_type": "stream",
     "text": [
      "250/250 [==============================] - 0s 917us/step\n",
      "######################### train #########################\n",
      "accuracy 0.78825\n",
      "              precision    recall  f1-score   support\n",
      "\n",
      "           0       0.83      0.72      0.77      3983\n",
      "           1       0.75      0.86      0.80      4017\n",
      "\n",
      "    accuracy                           0.79      8000\n",
      "   macro avg       0.79      0.79      0.79      8000\n",
      "weighted avg       0.79      0.79      0.79      8000\n",
      "\n",
      "63/63 [==============================] - 0s 970us/step\n",
      "######################### test #########################\n",
      "accuracy 0.7765\n",
      "              precision    recall  f1-score   support\n",
      "\n",
      "           0       0.82      0.72      0.77      1017\n",
      "           1       0.74      0.83      0.79       983\n",
      "\n",
      "    accuracy                           0.78      2000\n",
      "   macro avg       0.78      0.78      0.78      2000\n",
      "weighted avg       0.78      0.78      0.78      2000\n",
      "\n"
     ]
    }
   ],
   "source": [
    "for set_name, set_data in sets:\n",
    "    labels = set_data.label.values\n",
    "    predicted_labels = np.rint(model.predict(extract_inputs(set_data)))\n",
    "\n",
    "    print('#' * 25, set_name, '#' * 25)\n",
    "    print('accuracy', accuracy_score(labels, predicted_labels))\n",
    "    print(classification_report(labels, predicted_labels))"
   ]
  },
  {
   "cell_type": "markdown",
   "id": "7839b4df",
   "metadata": {},
   "source": [
    "Finalmente, podemos clasificar todas las imágenes del conjunto de test, y mostrar algunos ejemplos de casos que anduvieron bien y casos que anduvieron mal.\n",
    "\n",
    "El título en cada imagen es la salida de la red neuronal: más cerca de 1 significa avión, más cerca de 0 significa pájaro."
   ]
  },
  {
   "cell_type": "code",
   "execution_count": 26,
   "id": "d551ba62",
   "metadata": {},
   "outputs": [
    {
     "name": "stdout",
     "output_type": "stream",
     "text": [
      "63/63 [==============================] - 0s 1ms/step\n"
     ]
    }
   ],
   "source": [
    "test_with_predictions = test.copy()\n",
    "test_with_predictions['prediction'] = model.predict(extract_inputs(test_with_predictions))\n",
    "test_with_predictions['predicted_label'] = np.rint(test_with_predictions.prediction)\n",
    "is_correct = test_with_predictions.label == test_with_predictions.predicted_label"
   ]
  },
  {
   "cell_type": "markdown",
   "id": "8ce3050a",
   "metadata": {},
   "source": [
    "Bien clasificados:"
   ]
  },
  {
   "cell_type": "code",
   "execution_count": 28,
   "id": "1e71f667",
   "metadata": {},
   "outputs": [
    {
     "data": {
      "image/png": "[encoded data removed]",
      "text/plain": [
       "<Figure size 640x480 with 1 Axes>"
      ]
     },
     "metadata": {},
     "output_type": "display_data"
    },
    {
     "data": {
      "image/png": "[encoded data removed]",
      "text/plain": [
       "<Figure size 640x480 with 1 Axes>"
      ]
     },
     "metadata": {},
     "output_type": "display_data"
    },
    {
     "data": {
      "image/png": "[encoded data removed]",
      "text/plain": [
       "<Figure size 640x480 with 1 Axes>"
      ]
     },
     "metadata": {},
     "output_type": "display_data"
    }
   ],
   "source": [
    "show_images(test_with_predictions[is_correct].sample(3), title='prediction')"
   ]
  },
  {
   "cell_type": "markdown",
   "id": "3ff4b1fe",
   "metadata": {},
   "source": [
    "Mal clasificados:"
   ]
  },
  {
   "cell_type": "code",
   "execution_count": 31,
   "id": "de6b603b",
   "metadata": {},
   "outputs": [
    {
     "data": {
      "image/png": "[encoded data removed]",
      "text/plain": [
       "<Figure size 640x480 with 1 Axes>"
      ]
     },
     "metadata": {},
     "output_type": "display_data"
    },
    {
     "data": {
      "image/png": "[encoded data removed]",
      "text/plain": [
       "<Figure size 640x480 with 1 Axes>"
      ]
     },
     "metadata": {},
     "output_type": "display_data"
    },
    {
     "data": {
      "image/png": "[encoded data removed]",
      "text/plain": [
       "<Figure size 640x480 with 1 Axes>"
      ]
     },
     "metadata": {},
     "output_type": "display_data"
    }
   ],
   "source": [
    "show_images(test_with_predictions[~is_correct].sample(3), title='prediction')"
   ]
  }
 ],
 "metadata": {
  "kernelspec": {
   "display_name": "Python 3 (ipykernel)",
   "language": "python",
   "name": "python3"
  },
  "language_info": {
   "codemirror_mode": {
    "name": "ipython",
    "version": 3
   },
   "file_extension": ".py",
   "mimetype": "text/x-python",
   "name": "python",
   "nbconvert_exporter": "python",
   "pygments_lexer": "ipython3",
   "version": "3.10.4"
  }
 },
 "nbformat": 4,
 "nbformat_minor": 5
}
