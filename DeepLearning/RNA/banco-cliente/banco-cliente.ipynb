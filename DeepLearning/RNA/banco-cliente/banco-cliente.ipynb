{
 "cells": [
  {
   "cell_type": "markdown",
   "id": "74a7a1a2",
   "metadata": {},
   "source": [
    "# Redes Neuronales Artificiales"
   ]
  },
  {
   "cell_type": "markdown",
   "id": "17e0c7d0",
   "metadata": {},
   "source": [
    "Predecir si un cliente abandona o no el banco"
   ]
  },
  {
   "cell_type": "code",
   "execution_count": 1,
   "id": "c6a02bd0",
   "metadata": {},
   "outputs": [],
   "source": [
    "import numpy as np\n",
    "import matplotlib.pyplot as plt\n",
    "import pandas as pd"
   ]
  },
  {
   "cell_type": "markdown",
   "id": "007ffd6f",
   "metadata": {},
   "source": [
    "## Importar el data set"
   ]
  },
  {
   "cell_type": "code",
   "execution_count": 2,
   "id": "27bad421",
   "metadata": {},
   "outputs": [],
   "source": [
    "dataset = pd.read_csv('data.csv')\n",
    "X = dataset.iloc[:, 3:13].values\n",
    "y = dataset.iloc[:, 13].values"
   ]
  },
  {
   "cell_type": "code",
   "execution_count": 3,
   "id": "15376928",
   "metadata": {},
   "outputs": [
    {
     "data": {
      "text/html": [
       "<div>\n",
       "<style scoped>\n",
       "    .dataframe tbody tr th:only-of-type {\n",
       "        vertical-align: middle;\n",
       "    }\n",
       "\n",
       "    .dataframe tbody tr th {\n",
       "        vertical-align: top;\n",
       "    }\n",
       "\n",
       "    .dataframe thead th {\n",
       "        text-align: right;\n",
       "    }\n",
       "</style>\n",
       "<table border=\"1\" class=\"dataframe\">\n",
       "  <thead>\n",
       "    <tr style=\"text-align: right;\">\n",
       "      <th></th>\n",
       "      <th>RowNumber</th>\n",
       "      <th>CustomerId</th>\n",
       "      <th>Surname</th>\n",
       "      <th>CreditScore</th>\n",
       "      <th>Geography</th>\n",
       "      <th>Gender</th>\n",
       "      <th>Age</th>\n",
       "      <th>Tenure</th>\n",
       "      <th>Balance</th>\n",
       "      <th>NumOfProducts</th>\n",
       "      <th>HasCrCard</th>\n",
       "      <th>IsActiveMember</th>\n",
       "      <th>EstimatedSalary</th>\n",
       "      <th>Exited</th>\n",
       "    </tr>\n",
       "  </thead>\n",
       "  <tbody>\n",
       "    <tr>\n",
       "      <th>7691</th>\n",
       "      <td>7692</td>\n",
       "      <td>15791045</td>\n",
       "      <td>Boni</td>\n",
       "      <td>568</td>\n",
       "      <td>France</td>\n",
       "      <td>Female</td>\n",
       "      <td>38</td>\n",
       "      <td>3</td>\n",
       "      <td>132951.92</td>\n",
       "      <td>1</td>\n",
       "      <td>0</td>\n",
       "      <td>1</td>\n",
       "      <td>124486.28</td>\n",
       "      <td>0</td>\n",
       "    </tr>\n",
       "    <tr>\n",
       "      <th>5756</th>\n",
       "      <td>5757</td>\n",
       "      <td>15706217</td>\n",
       "      <td>Kao</td>\n",
       "      <td>645</td>\n",
       "      <td>Germany</td>\n",
       "      <td>Male</td>\n",
       "      <td>28</td>\n",
       "      <td>7</td>\n",
       "      <td>117466.03</td>\n",
       "      <td>2</td>\n",
       "      <td>1</td>\n",
       "      <td>1</td>\n",
       "      <td>34490.06</td>\n",
       "      <td>0</td>\n",
       "    </tr>\n",
       "    <tr>\n",
       "      <th>6835</th>\n",
       "      <td>6836</td>\n",
       "      <td>15618391</td>\n",
       "      <td>Doyle</td>\n",
       "      <td>810</td>\n",
       "      <td>France</td>\n",
       "      <td>Male</td>\n",
       "      <td>33</td>\n",
       "      <td>6</td>\n",
       "      <td>0.00</td>\n",
       "      <td>2</td>\n",
       "      <td>1</td>\n",
       "      <td>1</td>\n",
       "      <td>77965.67</td>\n",
       "      <td>0</td>\n",
       "    </tr>\n",
       "    <tr>\n",
       "      <th>9890</th>\n",
       "      <td>9891</td>\n",
       "      <td>15670427</td>\n",
       "      <td>Chidi</td>\n",
       "      <td>662</td>\n",
       "      <td>Spain</td>\n",
       "      <td>Male</td>\n",
       "      <td>37</td>\n",
       "      <td>4</td>\n",
       "      <td>155187.30</td>\n",
       "      <td>1</td>\n",
       "      <td>1</td>\n",
       "      <td>0</td>\n",
       "      <td>48930.80</td>\n",
       "      <td>0</td>\n",
       "    </tr>\n",
       "    <tr>\n",
       "      <th>2202</th>\n",
       "      <td>2203</td>\n",
       "      <td>15751788</td>\n",
       "      <td>Johnson</td>\n",
       "      <td>850</td>\n",
       "      <td>Spain</td>\n",
       "      <td>Male</td>\n",
       "      <td>28</td>\n",
       "      <td>9</td>\n",
       "      <td>97408.03</td>\n",
       "      <td>1</td>\n",
       "      <td>1</td>\n",
       "      <td>1</td>\n",
       "      <td>175853.64</td>\n",
       "      <td>0</td>\n",
       "    </tr>\n",
       "  </tbody>\n",
       "</table>\n",
       "</div>"
      ],
      "text/plain": [
       "      RowNumber  CustomerId  Surname  CreditScore Geography  Gender  Age  \\\n",
       "7691       7692    15791045     Boni          568    France  Female   38   \n",
       "5756       5757    15706217      Kao          645   Germany    Male   28   \n",
       "6835       6836    15618391    Doyle          810    France    Male   33   \n",
       "9890       9891    15670427    Chidi          662     Spain    Male   37   \n",
       "2202       2203    15751788  Johnson          850     Spain    Male   28   \n",
       "\n",
       "      Tenure    Balance  NumOfProducts  HasCrCard  IsActiveMember  \\\n",
       "7691       3  132951.92              1          0               1   \n",
       "5756       7  117466.03              2          1               1   \n",
       "6835       6       0.00              2          1               1   \n",
       "9890       4  155187.30              1          1               0   \n",
       "2202       9   97408.03              1          1               1   \n",
       "\n",
       "      EstimatedSalary  Exited  \n",
       "7691        124486.28       0  \n",
       "5756         34490.06       0  \n",
       "6835         77965.67       0  \n",
       "9890         48930.80       0  \n",
       "2202        175853.64       0  "
      ]
     },
     "execution_count": 3,
     "metadata": {},
     "output_type": "execute_result"
    }
   ],
   "source": [
    "dataset.sample(5)"
   ]
  },
  {
   "cell_type": "code",
   "execution_count": 7,
   "id": "07c3a1c8",
   "metadata": {},
   "outputs": [
    {
     "data": {
      "text/plain": [
       "numpy.ndarray"
      ]
     },
     "execution_count": 7,
     "metadata": {},
     "output_type": "execute_result"
    }
   ],
   "source": [
    "type(X)"
   ]
  },
  {
   "cell_type": "code",
   "execution_count": 8,
   "id": "7f2271c9",
   "metadata": {},
   "outputs": [
    {
     "data": {
      "text/plain": [
       "array([[619, 'France', 'Female', ..., 1, 1, 101348.88],\n",
       "       [608, 'Spain', 'Female', ..., 0, 1, 112542.58],\n",
       "       [502, 'France', 'Female', ..., 1, 0, 113931.57],\n",
       "       ...,\n",
       "       [709, 'France', 'Female', ..., 0, 1, 42085.58],\n",
       "       [772, 'Germany', 'Male', ..., 1, 0, 92888.52],\n",
       "       [792, 'France', 'Female', ..., 1, 0, 38190.78]], dtype=object)"
      ]
     },
     "execution_count": 8,
     "metadata": {},
     "output_type": "execute_result"
    }
   ],
   "source": [
    "X"
   ]
  },
  {
   "cell_type": "code",
   "execution_count": 10,
   "id": "87095056",
   "metadata": {},
   "outputs": [
    {
     "data": {
      "text/plain": [
       "array([1, 0, 1, ..., 1, 1, 0], dtype=int64)"
      ]
     },
     "execution_count": 10,
     "metadata": {},
     "output_type": "execute_result"
    }
   ],
   "source": [
    "y"
   ]
  },
  {
   "cell_type": "markdown",
   "id": "3f315233",
   "metadata": {},
   "source": [
    "## Parte 1 - Pre procesado de datos"
   ]
  },
  {
   "cell_type": "markdown",
   "id": "aa5740a3",
   "metadata": {},
   "source": [
    "Codificar datos categóricos"
   ]
  },
  {
   "cell_type": "code",
   "execution_count": 11,
   "id": "26aff9e2",
   "metadata": {},
   "outputs": [],
   "source": [
    "from sklearn.preprocessing import LabelEncoder, OneHotEncoder\n",
    "from sklearn.compose import ColumnTransformer\n",
    "\n",
    "labelencoder_X_1 = LabelEncoder()\n",
    "X[:, 1] = labelencoder_X_1.fit_transform(X[:, 1])\n",
    "labelencoder_X_2 = LabelEncoder()\n",
    "X[:, 2] = labelencoder_X_2.fit_transform(X[:, 2])\n",
    "onehotencoder = ColumnTransformer(\n",
    "    [('one_hot_encoder', OneHotEncoder(categories='auto'), [1])],   \n",
    "    remainder='passthrough'                        \n",
    ")\n",
    "X = onehotencoder.fit_transform(X)\n",
    "X = X[:, 1:]"
   ]
  },
  {
   "cell_type": "code",
   "execution_count": 12,
   "id": "77e9b091",
   "metadata": {},
   "outputs": [
    {
     "data": {
      "text/plain": [
       "array([[0.0, 0.0, 619, ..., 1, 1, 101348.88],\n",
       "       [0.0, 1.0, 608, ..., 0, 1, 112542.58],\n",
       "       [0.0, 0.0, 502, ..., 1, 0, 113931.57],\n",
       "       ...,\n",
       "       [0.0, 0.0, 709, ..., 0, 1, 42085.58],\n",
       "       [1.0, 0.0, 772, ..., 1, 0, 92888.52],\n",
       "       [0.0, 0.0, 792, ..., 1, 0, 38190.78]], dtype=object)"
      ]
     },
     "execution_count": 12,
     "metadata": {},
     "output_type": "execute_result"
    }
   ],
   "source": [
    "X"
   ]
  },
  {
   "cell_type": "markdown",
   "id": "8ac0ce9f",
   "metadata": {},
   "source": [
    "## Dividir el data set en conjunto de entrenamiento y conjunto de testing"
   ]
  },
  {
   "cell_type": "code",
   "execution_count": 13,
   "id": "dc78316d",
   "metadata": {},
   "outputs": [],
   "source": [
    "from sklearn.model_selection import train_test_split\n",
    "X_train, X_test, y_train, y_test = train_test_split(X, y, test_size = 0.2, random_state = 0)"
   ]
  },
  {
   "cell_type": "markdown",
   "id": "9ccb8c61",
   "metadata": {},
   "source": [
    "## Escalado de variables"
   ]
  },
  {
   "cell_type": "code",
   "execution_count": 14,
   "id": "70f5f26b",
   "metadata": {},
   "outputs": [],
   "source": [
    "from sklearn.preprocessing import StandardScaler\n",
    "sc_X = StandardScaler()\n",
    "X_train = sc_X.fit_transform(X_train)\n",
    "X_test = sc_X.transform(X_test)"
   ]
  },
  {
   "cell_type": "markdown",
   "id": "7f5813fe",
   "metadata": {},
   "source": [
    "## Parte 2 - Construir la RNA"
   ]
  },
  {
   "cell_type": "markdown",
   "id": "b1d833a1",
   "metadata": {},
   "source": [
    "Importar Keras y librerías adicionales"
   ]
  },
  {
   "cell_type": "code",
   "execution_count": 15,
   "id": "c720d2e0",
   "metadata": {},
   "outputs": [],
   "source": [
    "import keras\n",
    "from keras.models import Sequential\n",
    "from keras.layers import Dense"
   ]
  },
  {
   "cell_type": "markdown",
   "id": "06fff925",
   "metadata": {},
   "source": [
    "## Inicializar la RNA"
   ]
  },
  {
   "cell_type": "code",
   "execution_count": 16,
   "id": "bc1b1b2d",
   "metadata": {},
   "outputs": [],
   "source": [
    "classifier = Sequential()"
   ]
  },
  {
   "cell_type": "markdown",
   "id": "505ad003",
   "metadata": {},
   "source": [
    "## Añadir las capas de entrada y primera capa oculta"
   ]
  },
  {
   "cell_type": "code",
   "execution_count": 17,
   "id": "c4f04bcb",
   "metadata": {},
   "outputs": [],
   "source": [
    "classifier.add(Dense(units = 6, kernel_initializer = \"uniform\", activation = \"relu\", input_dim = 11))"
   ]
  },
  {
   "cell_type": "markdown",
   "id": "6d6f5acc",
   "metadata": {},
   "source": [
    "## Añadir la segunda capa oculta"
   ]
  },
  {
   "cell_type": "code",
   "execution_count": 18,
   "id": "ac35dede",
   "metadata": {},
   "outputs": [],
   "source": [
    "classifier.add(Dense(units = 6, kernel_initializer = \"uniform\",  activation = \"relu\"))"
   ]
  },
  {
   "cell_type": "markdown",
   "id": "61ea9063",
   "metadata": {},
   "source": [
    "## Añadir la capa de salida"
   ]
  },
  {
   "cell_type": "code",
   "execution_count": 19,
   "id": "b2e79e79",
   "metadata": {},
   "outputs": [],
   "source": [
    "classifier.add(Dense(units = 1, kernel_initializer = \"uniform\",  activation = \"sigmoid\"))"
   ]
  },
  {
   "cell_type": "markdown",
   "id": "e07820be",
   "metadata": {},
   "source": [
    "## Compilar la RNA"
   ]
  },
  {
   "cell_type": "code",
   "execution_count": 20,
   "id": "5618e23d",
   "metadata": {},
   "outputs": [],
   "source": [
    "classifier.compile(optimizer = \"adam\", loss = \"binary_crossentropy\", metrics = [\"accuracy\"])"
   ]
  },
  {
   "cell_type": "markdown",
   "id": "21df7df0",
   "metadata": {},
   "source": [
    "## Ajustamos la RNA al Conjunto de Entrenamiento"
   ]
  },
  {
   "cell_type": "code",
   "execution_count": 21,
   "id": "b5733c9b",
   "metadata": {},
   "outputs": [
    {
     "name": "stdout",
     "output_type": "stream",
     "text": [
      "Epoch 1/100\n",
      "800/800 [==============================] - 1s 806us/step - loss: 0.4878 - accuracy: 0.7952\n",
      "Epoch 2/100\n",
      "800/800 [==============================] - 1s 780us/step - loss: 0.4287 - accuracy: 0.7960\n",
      "Epoch 3/100\n",
      "800/800 [==============================] - 1s 813us/step - loss: 0.4236 - accuracy: 0.7960\n",
      "Epoch 4/100\n",
      "800/800 [==============================] - 1s 773us/step - loss: 0.4196 - accuracy: 0.8179\n",
      "Epoch 5/100\n",
      "800/800 [==============================] - 1s 784us/step - loss: 0.4171 - accuracy: 0.8261\n",
      "Epoch 6/100\n",
      "800/800 [==============================] - 1s 776us/step - loss: 0.4146 - accuracy: 0.8281\n",
      "Epoch 7/100\n",
      "800/800 [==============================] - 1s 832us/step - loss: 0.4129 - accuracy: 0.8300\n",
      "Epoch 8/100\n",
      "800/800 [==============================] - 1s 763us/step - loss: 0.4114 - accuracy: 0.8329\n",
      "Epoch 9/100\n",
      "800/800 [==============================] - 1s 842us/step - loss: 0.4098 - accuracy: 0.8357\n",
      "Epoch 10/100\n",
      "800/800 [==============================] - 1s 847us/step - loss: 0.4091 - accuracy: 0.8340\n",
      "Epoch 11/100\n",
      "800/800 [==============================] - 1s 890us/step - loss: 0.4081 - accuracy: 0.8365\n",
      "Epoch 12/100\n",
      "800/800 [==============================] - 1s 864us/step - loss: 0.4072 - accuracy: 0.8351\n",
      "Epoch 13/100\n",
      "800/800 [==============================] - 1s 816us/step - loss: 0.4066 - accuracy: 0.8341\n",
      "Epoch 14/100\n",
      "800/800 [==============================] - 1s 797us/step - loss: 0.4064 - accuracy: 0.8346\n",
      "Epoch 15/100\n",
      "800/800 [==============================] - 1s 770us/step - loss: 0.4057 - accuracy: 0.8361\n",
      "Epoch 16/100\n",
      "800/800 [==============================] - 1s 772us/step - loss: 0.4052 - accuracy: 0.8356\n",
      "Epoch 17/100\n",
      "800/800 [==============================] - 1s 788us/step - loss: 0.4047 - accuracy: 0.8346\n",
      "Epoch 18/100\n",
      "800/800 [==============================] - 1s 866us/step - loss: 0.4049 - accuracy: 0.8349\n",
      "Epoch 19/100\n",
      "800/800 [==============================] - 1s 814us/step - loss: 0.4039 - accuracy: 0.8347\n",
      "Epoch 20/100\n",
      "800/800 [==============================] - 1s 871us/step - loss: 0.4039 - accuracy: 0.8353\n",
      "Epoch 21/100\n",
      "800/800 [==============================] - 1s 793us/step - loss: 0.4038 - accuracy: 0.8354\n",
      "Epoch 22/100\n",
      "800/800 [==============================] - 1s 823us/step - loss: 0.4033 - accuracy: 0.8330\n",
      "Epoch 23/100\n",
      "800/800 [==============================] - 1s 775us/step - loss: 0.4032 - accuracy: 0.8346\n",
      "Epoch 24/100\n",
      "800/800 [==============================] - 1s 827us/step - loss: 0.4031 - accuracy: 0.8363\n",
      "Epoch 25/100\n",
      "800/800 [==============================] - 1s 794us/step - loss: 0.4029 - accuracy: 0.8346\n",
      "Epoch 26/100\n",
      "800/800 [==============================] - 1s 799us/step - loss: 0.4024 - accuracy: 0.8355\n",
      "Epoch 27/100\n",
      "800/800 [==============================] - 1s 777us/step - loss: 0.4028 - accuracy: 0.8360\n",
      "Epoch 28/100\n",
      "800/800 [==============================] - 1s 802us/step - loss: 0.4025 - accuracy: 0.8349\n",
      "Epoch 29/100\n",
      "800/800 [==============================] - 1s 871us/step - loss: 0.4018 - accuracy: 0.8339\n",
      "Epoch 30/100\n",
      "800/800 [==============================] - 1s 829us/step - loss: 0.4022 - accuracy: 0.8345\n",
      "Epoch 31/100\n",
      "800/800 [==============================] - 1s 801us/step - loss: 0.4025 - accuracy: 0.8351\n",
      "Epoch 32/100\n",
      "800/800 [==============================] - 1s 785us/step - loss: 0.4018 - accuracy: 0.8342\n",
      "Epoch 33/100\n",
      "800/800 [==============================] - 1s 807us/step - loss: 0.4015 - accuracy: 0.8345\n",
      "Epoch 34/100\n",
      "800/800 [==============================] - 1s 799us/step - loss: 0.4018 - accuracy: 0.8344\n",
      "Epoch 35/100\n",
      "800/800 [==============================] - 1s 804us/step - loss: 0.4010 - accuracy: 0.8355\n",
      "Epoch 36/100\n",
      "800/800 [==============================] - 1s 798us/step - loss: 0.4015 - accuracy: 0.8367\n",
      "Epoch 37/100\n",
      "800/800 [==============================] - 1s 802us/step - loss: 0.4016 - accuracy: 0.8350\n",
      "Epoch 38/100\n",
      "800/800 [==============================] - 1s 810us/step - loss: 0.4014 - accuracy: 0.8339\n",
      "Epoch 39/100\n",
      "800/800 [==============================] - 1s 808us/step - loss: 0.4014 - accuracy: 0.8340\n",
      "Epoch 40/100\n",
      "800/800 [==============================] - 1s 791us/step - loss: 0.4014 - accuracy: 0.8344\n",
      "Epoch 41/100\n",
      "800/800 [==============================] - 1s 803us/step - loss: 0.4012 - accuracy: 0.8347\n",
      "Epoch 42/100\n",
      "800/800 [==============================] - 1s 798us/step - loss: 0.4011 - accuracy: 0.8353\n",
      "Epoch 43/100\n",
      "800/800 [==============================] - 1s 806us/step - loss: 0.4012 - accuracy: 0.8345\n",
      "Epoch 44/100\n",
      "800/800 [==============================] - 1s 806us/step - loss: 0.4007 - accuracy: 0.8353\n",
      "Epoch 45/100\n",
      "800/800 [==============================] - 1s 806us/step - loss: 0.4009 - accuracy: 0.8360\n",
      "Epoch 46/100\n",
      "800/800 [==============================] - 1s 820us/step - loss: 0.4003 - accuracy: 0.8350\n",
      "Epoch 47/100\n",
      "800/800 [==============================] - 1s 803us/step - loss: 0.4006 - accuracy: 0.8357\n",
      "Epoch 48/100\n",
      "800/800 [==============================] - 1s 800us/step - loss: 0.4012 - accuracy: 0.8363\n",
      "Epoch 49/100\n",
      "800/800 [==============================] - 1s 827us/step - loss: 0.4007 - accuracy: 0.8364\n",
      "Epoch 50/100\n",
      "800/800 [==============================] - 1s 822us/step - loss: 0.4007 - accuracy: 0.8345\n",
      "Epoch 51/100\n",
      "800/800 [==============================] - 1s 809us/step - loss: 0.4003 - accuracy: 0.8364\n",
      "Epoch 52/100\n",
      "800/800 [==============================] - 1s 793us/step - loss: 0.4005 - accuracy: 0.8341\n",
      "Epoch 53/100\n",
      "800/800 [==============================] - 1s 821us/step - loss: 0.4001 - accuracy: 0.8347\n",
      "Epoch 54/100\n",
      "800/800 [==============================] - 1s 815us/step - loss: 0.4003 - accuracy: 0.8356\n",
      "Epoch 55/100\n",
      "800/800 [==============================] - 1s 784us/step - loss: 0.4002 - accuracy: 0.8345\n",
      "Epoch 56/100\n",
      "800/800 [==============================] - 1s 816us/step - loss: 0.4008 - accuracy: 0.8349\n",
      "Epoch 57/100\n",
      "800/800 [==============================] - 1s 798us/step - loss: 0.4003 - accuracy: 0.8346\n",
      "Epoch 58/100\n",
      "800/800 [==============================] - 1s 818us/step - loss: 0.4007 - accuracy: 0.8336\n",
      "Epoch 59/100\n",
      "800/800 [==============================] - 1s 812us/step - loss: 0.3999 - accuracy: 0.8353\n",
      "Epoch 60/100\n",
      "800/800 [==============================] - 1s 814us/step - loss: 0.4004 - accuracy: 0.8355\n",
      "Epoch 61/100\n",
      "800/800 [==============================] - 1s 793us/step - loss: 0.4003 - accuracy: 0.8365\n",
      "Epoch 62/100\n",
      "800/800 [==============================] - 1s 813us/step - loss: 0.4004 - accuracy: 0.8356\n",
      "Epoch 63/100\n",
      "800/800 [==============================] - 1s 789us/step - loss: 0.4000 - accuracy: 0.8355\n",
      "Epoch 64/100\n",
      "800/800 [==============================] - 1s 818us/step - loss: 0.4004 - accuracy: 0.8353\n",
      "Epoch 65/100\n",
      "800/800 [==============================] - 1s 802us/step - loss: 0.4001 - accuracy: 0.8340\n",
      "Epoch 66/100\n",
      "800/800 [==============================] - 1s 869us/step - loss: 0.4002 - accuracy: 0.8363\n",
      "Epoch 67/100\n",
      "800/800 [==============================] - 1s 784us/step - loss: 0.4002 - accuracy: 0.8349\n",
      "Epoch 68/100\n",
      "800/800 [==============================] - 1s 777us/step - loss: 0.4005 - accuracy: 0.8345\n",
      "Epoch 69/100\n",
      "800/800 [==============================] - 1s 788us/step - loss: 0.4000 - accuracy: 0.8360\n",
      "Epoch 70/100\n",
      "800/800 [==============================] - 1s 796us/step - loss: 0.3998 - accuracy: 0.8356\n",
      "Epoch 71/100\n",
      "800/800 [==============================] - 1s 877us/step - loss: 0.3997 - accuracy: 0.8359\n",
      "Epoch 72/100\n",
      "800/800 [==============================] - 1s 799us/step - loss: 0.3998 - accuracy: 0.8346\n",
      "Epoch 73/100\n",
      "800/800 [==============================] - 1s 791us/step - loss: 0.4001 - accuracy: 0.8345\n",
      "Epoch 74/100\n",
      "800/800 [==============================] - 1s 798us/step - loss: 0.4002 - accuracy: 0.8354\n",
      "Epoch 75/100\n",
      "800/800 [==============================] - 1s 801us/step - loss: 0.4001 - accuracy: 0.8342\n",
      "Epoch 76/100\n",
      "800/800 [==============================] - 1s 805us/step - loss: 0.3998 - accuracy: 0.8355\n",
      "Epoch 77/100\n",
      "800/800 [==============================] - 1s 797us/step - loss: 0.3998 - accuracy: 0.8363\n",
      "Epoch 78/100\n",
      "800/800 [==============================] - 1s 818us/step - loss: 0.4002 - accuracy: 0.8356\n",
      "Epoch 79/100\n"
     ]
    },
    {
     "name": "stdout",
     "output_type": "stream",
     "text": [
      "800/800 [==============================] - 1s 892us/step - loss: 0.3997 - accuracy: 0.8349\n",
      "Epoch 80/100\n",
      "800/800 [==============================] - 1s 794us/step - loss: 0.3996 - accuracy: 0.8356\n",
      "Epoch 81/100\n",
      "800/800 [==============================] - 1s 798us/step - loss: 0.4000 - accuracy: 0.8350\n",
      "Epoch 82/100\n",
      "800/800 [==============================] - 1s 782us/step - loss: 0.3995 - accuracy: 0.8341\n",
      "Epoch 83/100\n",
      "800/800 [==============================] - 1s 829us/step - loss: 0.4002 - accuracy: 0.8353\n",
      "Epoch 84/100\n",
      "800/800 [==============================] - 1s 828us/step - loss: 0.3994 - accuracy: 0.8330\n",
      "Epoch 85/100\n",
      "800/800 [==============================] - 1s 795us/step - loss: 0.3997 - accuracy: 0.8346\n",
      "Epoch 86/100\n",
      "800/800 [==============================] - 1s 784us/step - loss: 0.3993 - accuracy: 0.8346\n",
      "Epoch 87/100\n",
      "800/800 [==============================] - 1s 779us/step - loss: 0.3993 - accuracy: 0.8340\n",
      "Epoch 88/100\n",
      "800/800 [==============================] - 1s 797us/step - loss: 0.3992 - accuracy: 0.8344\n",
      "Epoch 89/100\n",
      "800/800 [==============================] - 1s 883us/step - loss: 0.3999 - accuracy: 0.8350\n",
      "Epoch 90/100\n",
      "800/800 [==============================] - 1s 783us/step - loss: 0.3991 - accuracy: 0.8355\n",
      "Epoch 91/100\n",
      "800/800 [==============================] - 1s 758us/step - loss: 0.3991 - accuracy: 0.8341\n",
      "Epoch 92/100\n",
      "800/800 [==============================] - 1s 776us/step - loss: 0.3992 - accuracy: 0.8340\n",
      "Epoch 93/100\n",
      "800/800 [==============================] - 1s 869us/step - loss: 0.3995 - accuracy: 0.8347\n",
      "Epoch 94/100\n",
      "800/800 [==============================] - 1s 792us/step - loss: 0.3997 - accuracy: 0.8345\n",
      "Epoch 95/100\n",
      "800/800 [==============================] - 1s 797us/step - loss: 0.3990 - accuracy: 0.8350\n",
      "Epoch 96/100\n",
      "800/800 [==============================] - 1s 798us/step - loss: 0.3995 - accuracy: 0.8351\n",
      "Epoch 97/100\n",
      "800/800 [==============================] - 1s 811us/step - loss: 0.3993 - accuracy: 0.8356\n",
      "Epoch 98/100\n",
      "800/800 [==============================] - 1s 808us/step - loss: 0.3994 - accuracy: 0.8354\n",
      "Epoch 99/100\n",
      "800/800 [==============================] - 1s 783us/step - loss: 0.3994 - accuracy: 0.8340\n",
      "Epoch 100/100\n",
      "800/800 [==============================] - 1s 799us/step - loss: 0.3995 - accuracy: 0.8369\n"
     ]
    },
    {
     "data": {
      "text/plain": [
       "<keras.callbacks.History at 0x2bb5568b9d0>"
      ]
     },
     "execution_count": 21,
     "metadata": {},
     "output_type": "execute_result"
    }
   ],
   "source": [
    "classifier.fit(X_train, y_train,  batch_size = 10, epochs = 100)"
   ]
  },
  {
   "cell_type": "markdown",
   "id": "a44322b0",
   "metadata": {},
   "source": [
    "## Parte 3 - Evaluar el modelo y calcular predicciones finales"
   ]
  },
  {
   "cell_type": "markdown",
   "id": "bc113125",
   "metadata": {},
   "source": [
    "Predicción de los resultados con el Conjunto de Testing"
   ]
  },
  {
   "cell_type": "code",
   "execution_count": 22,
   "id": "c9ce4fa8",
   "metadata": {},
   "outputs": [
    {
     "name": "stdout",
     "output_type": "stream",
     "text": [
      "63/63 [==============================] - 0s 767us/step\n"
     ]
    }
   ],
   "source": [
    "y_pred  = classifier.predict(X_test)\n",
    "y_pred = (y_pred>0.5)"
   ]
  },
  {
   "cell_type": "markdown",
   "id": "dfc72406",
   "metadata": {},
   "source": [
    "Elaborar una matriz de confusión"
   ]
  },
  {
   "cell_type": "code",
   "execution_count": 23,
   "id": "6d46ae53",
   "metadata": {},
   "outputs": [],
   "source": [
    "from sklearn.metrics import confusion_matrix\n",
    "cm = confusion_matrix(y_test, y_pred)"
   ]
  },
  {
   "cell_type": "markdown",
   "id": "ae74f96c",
   "metadata": {},
   "source": [
    "## Parte 4 - Evaluar, mejorar y Ajustar la RNA"
   ]
  },
  {
   "cell_type": "markdown",
   "id": "69ddcfb5",
   "metadata": {},
   "source": [
    "Evaluar la RNA"
   ]
  },
  {
   "cell_type": "code",
   "execution_count": 24,
   "id": "a9d0d656",
   "metadata": {},
   "outputs": [],
   "source": [
    "from keras.wrappers.scikit_learn import KerasClassifier\n",
    "from sklearn.model_selection import cross_val_score"
   ]
  },
  {
   "cell_type": "code",
   "execution_count": 25,
   "id": "62559530",
   "metadata": {},
   "outputs": [],
   "source": [
    "def build_classifier():\n",
    "  classifier = Sequential()\n",
    "  classifier.add(Dense(units = 6, kernel_initializer = \"uniform\", activation = \"relu\", input_dim = 11))\n",
    "  classifier.add(Dense(units = 6, kernel_initializer = \"uniform\", activation = \"relu\"))\n",
    "  classifier.add(Dense(units = 1, kernel_initializer = \"uniform\", activation = \"sigmoid\"))\n",
    "  classifier.compile(optimizer = \"adam\", loss = \"binary_crossentropy\", metrics = [\"accuracy\"])\n",
    "  return classifier"
   ]
  },
  {
   "cell_type": "code",
   "execution_count": 26,
   "id": "43874a72",
   "metadata": {},
   "outputs": [
    {
     "name": "stderr",
     "output_type": "stream",
     "text": [
      "C:\\Windows\\Temp\\ipykernel_2588\\1157864180.py:1: DeprecationWarning: KerasClassifier is deprecated, use Sci-Keras (https://github.com/adriangb/scikeras) instead. See https://www.adriangb.com/scikeras/stable/migration.html for help migrating.\n",
      "  classifier = KerasClassifier(build_fn = build_classifier, batch_size = 10, nb_epoch = 100)\n",
      "[Parallel(n_jobs=-1)]: Using backend LokyBackend with 8 concurrent workers.\n",
      "[Parallel(n_jobs=-1)]: Done   6 out of  10 | elapsed:    5.0s remaining:    3.3s\n",
      "[Parallel(n_jobs=-1)]: Done  10 out of  10 | elapsed:    6.3s finished\n"
     ]
    }
   ],
   "source": [
    "classifier = KerasClassifier(build_fn = build_classifier, batch_size = 10, nb_epoch = 100)\n",
    "accuracies = cross_val_score(estimator=classifier, X = X_train, y = y_train, cv = 10, n_jobs=-1, verbose = 1)"
   ]
  },
  {
   "cell_type": "code",
   "execution_count": 27,
   "id": "3417e1ac",
   "metadata": {},
   "outputs": [],
   "source": [
    "mean = accuracies.mean()\n",
    "variance = accuracies.std()"
   ]
  },
  {
   "cell_type": "markdown",
   "id": "5ad8debf",
   "metadata": {},
   "source": [
    "## Mejorar la RNA"
   ]
  },
  {
   "cell_type": "markdown",
   "id": "95b37d61",
   "metadata": {},
   "source": [
    "Regularización de Dropout para evitar el overfitting"
   ]
  },
  {
   "cell_type": "markdown",
   "id": "4a8134bc",
   "metadata": {},
   "source": [
    "## Ajustar la RNA"
   ]
  },
  {
   "cell_type": "code",
   "execution_count": 28,
   "id": "dbc35790",
   "metadata": {},
   "outputs": [],
   "source": [
    "from sklearn.model_selection import GridSearchCV"
   ]
  },
  {
   "cell_type": "code",
   "execution_count": 29,
   "id": "3015fac0",
   "metadata": {},
   "outputs": [],
   "source": [
    "def build_classifier(optimizer):\n",
    "  classifier = Sequential()\n",
    "  classifier.add(Dense(units = 6, kernel_initializer = \"uniform\",  activation = \"relu\", input_dim = 11))\n",
    "  classifier.add(Dense(units = 6, kernel_initializer = \"uniform\",  activation = \"relu\"))\n",
    "  classifier.add(Dense(units = 1, kernel_initializer = \"uniform\",  activation = \"sigmoid\"))\n",
    "  classifier.compile(optimizer = optimizer, loss = \"binary_crossentropy\", metrics = [\"accuracy\"])\n",
    "  return classifier"
   ]
  },
  {
   "cell_type": "code",
   "execution_count": 30,
   "id": "f6d62801",
   "metadata": {},
   "outputs": [
    {
     "name": "stderr",
     "output_type": "stream",
     "text": [
      "C:\\Windows\\Temp\\ipykernel_2588\\3867060546.py:1: DeprecationWarning: KerasClassifier is deprecated, use Sci-Keras (https://github.com/adriangb/scikeras) instead. See https://www.adriangb.com/scikeras/stable/migration.html for help migrating.\n",
      "  classifier = KerasClassifier(build_fn = build_classifier)\n"
     ]
    }
   ],
   "source": [
    "classifier = KerasClassifier(build_fn = build_classifier)"
   ]
  },
  {
   "cell_type": "code",
   "execution_count": 31,
   "id": "b06b5ac1",
   "metadata": {},
   "outputs": [],
   "source": [
    "parameters = {\n",
    "    'batch_size' : [25,32],\n",
    "    'nb_epoch' : [100, 500], \n",
    "    'optimizer' : ['adam', 'rmsprop']\n",
    "}"
   ]
  },
  {
   "cell_type": "code",
   "execution_count": null,
   "id": "68f6abcf",
   "metadata": {},
   "outputs": [],
   "source": [
    "---\n",
    "grid_search = GridSearchCV(estimator = classifier, \n",
    "                           param_grid = parameters, \n",
    "                           scoring = 'accuracy', \n",
    "                           cv = 10)\n",
    "grid_search = grid_search.fit(X_train, y_train)\n",
    "\n",
    "best_parameters = grid_search.best_params_\n",
    "best_accuracy = grid_search.best_score_\n",
    "---"
   ]
  },
  {
   "cell_type": "code",
   "execution_count": null,
   "id": "e6bc5d23",
   "metadata": {},
   "outputs": [],
   "source": []
  }
 ],
 "metadata": {
  "kernelspec": {
   "display_name": "Python 3 (ipykernel)",
   "language": "python",
   "name": "python3"
  },
  "language_info": {
   "codemirror_mode": {
    "name": "ipython",
    "version": 3
   },
   "file_extension": ".py",
   "mimetype": "text/x-python",
   "name": "python",
   "nbconvert_exporter": "python",
   "pygments_lexer": "ipython3",
   "version": "3.10.4"
  }
 },
 "nbformat": 4,
 "nbformat_minor": 5
}
